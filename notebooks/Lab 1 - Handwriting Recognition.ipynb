{
 "cells": [
  {
   "cell_type": "markdown",
   "id": "ef2480a0-62c0-415f-8e50-d9b7807d39f5",
   "metadata": {},
   "source": [
    "# Lab 1 - Handwriting Recognition"
   ]
  },
  {
   "cell_type": "code",
   "execution_count": null,
   "id": "76168646-9902-4fe7-81f1-dfc7cf06249a",
   "metadata": {},
   "outputs": [],
   "source": [
    "from src.lab1.predict import load_model\n",
    "from src.utils import get_device"
   ]
  },
  {
   "cell_type": "code",
   "execution_count": null,
   "id": "0554691d-bb3f-4160-b6bd-3678d0e08a67",
   "metadata": {},
   "outputs": [],
   "source": [
    "DEVICE = get_device()  # possible values: \"cpu\", \"cuda\", \"mps\" (auto-detection if no value provided)"
   ]
  },
  {
   "cell_type": "code",
   "execution_count": null,
   "id": "79d87208-cc11-4edb-a654-5f56057515b8",
   "metadata": {},
   "outputs": [],
   "source": [
    "MODEL_PATH = \"../models/{MODEL_NAME}.pt\"\n",
    "\n",
    "model = load_model(MODEL_PATH, get_device(DEVICE))\n",
    "model"
   ]
  },
  {
   "cell_type": "code",
   "execution_count": null,
   "id": "80f6d33d-c1fe-4521-be1a-0b8f6d77486c",
   "metadata": {},
   "outputs": [],
   "source": [
    "from pathlib import Path\n",
    "\n",
    "import matplotlib.pyplot as plt\n",
    "import torch\n",
    "\n",
    "from src.lab1.dataset_mnist import MNISTDataModule\n",
    "\n",
    "DATA_DIR = \"../data\"\n",
    "BATCH_SIZE = 12\n",
    "VALID_SIZE = 10000\n",
    "\n",
    "data_module = MNISTDataModule(Path(DATA_DIR), BATCH_SIZE, VALID_SIZE)\n",
    "data_module.prepare_data()\n",
    "data_module.setup()\n",
    "\n",
    "test_loader = data_module.test_dataloader()\n",
    "\n",
    "images, labels = next(iter(test_loader))\n",
    "\n",
    "fig = plt.figure(figsize=(12, 4))\n",
    "for i in range(BATCH_SIZE):\n",
    "    ax = fig.add_subplot(2, 6, i + 1)\n",
    "    ax.set_xticks([])\n",
    "    ax.set_yticks([])\n",
    "\n",
    "    img = images[i].squeeze()\n",
    "    x_tensor = images[i].unsqueeze(0).to(DEVICE)\n",
    "\n",
    "    with torch.no_grad():\n",
    "        logits = model(x_tensor)\n",
    "\n",
    "    y_pred = torch.argmax(logits, dim=1).item()\n",
    "\n",
    "    ax.imshow(img, cmap=\"gray\")\n",
    "    ax.text(\n",
    "        0.9,\n",
    "        0.1,\n",
    "        y_pred,\n",
    "        size=15,\n",
    "        color=\"blue\",\n",
    "        horizontalalignment=\"center\",\n",
    "        verticalalignment=\"center\",\n",
    "        transform=ax.transAxes,\n",
    "    )\n",
    "\n",
    "plt.show()"
   ]
  },
  {
   "cell_type": "code",
   "execution_count": null,
   "id": "fb112f84-06fa-4c06-82a5-aa14f31b1605",
   "metadata": {},
   "outputs": [],
   "source": [
    "from IPython.display import Image\n",
    "\n",
    "%matplotlib inline\n",
    "\n",
    "IMAGE_PATH = \"path to the image\"\n",
    "\n",
    "Image(filename=IMAGE_PATH, width=300)"
   ]
  },
  {
   "cell_type": "code",
   "execution_count": null,
   "id": "750bfcea-4e1e-4837-bef3-f47b3ba0515c",
   "metadata": {},
   "outputs": [],
   "source": [
    "from src.lab1.predict import load_image, predict, preprocess_image\n",
    "\n",
    "image = load_image(IMAGE_PATH)\n",
    "x_tensor = preprocess_image(image, DEVICE)\n",
    "\n",
    "x_tensor_cpu = x_tensor.cpu()\n",
    "img_array = x_tensor_cpu.squeeze().numpy()\n",
    "\n",
    "plt.figure(figsize=(3, 3))\n",
    "plt.imshow(img_array, cmap=\"gray\")\n",
    "plt.axis(\"off\")\n",
    "\n",
    "plt.show()"
   ]
  },
  {
   "cell_type": "code",
   "execution_count": null,
   "id": "1bbd03e3-5728-4680-8fd3-cc47f734a1a1",
   "metadata": {},
   "outputs": [],
   "source": [
    "y_pred, prob = predict(model, x_tensor)\n",
    "print(f'Predicted: \"{y_pred}\" (probability: {prob * 100:.1f}%)')"
   ]
  }
 ],
 "metadata": {
  "kernelspec": {
   "display_name": "lpnu-ml-labs",
   "language": "python",
   "name": "lpnu-ml-labs"
  },
  "language_info": {
   "codemirror_mode": {
    "name": "ipython",
    "version": 3
   },
   "file_extension": ".py",
   "mimetype": "text/x-python",
   "name": "python",
   "nbconvert_exporter": "python",
   "pygments_lexer": "ipython3",
   "version": "3.12.9"
  }
 },
 "nbformat": 4,
 "nbformat_minor": 5
}
